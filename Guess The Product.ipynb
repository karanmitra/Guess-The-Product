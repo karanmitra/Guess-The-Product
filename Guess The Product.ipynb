{
 "cells": [
  {
   "cell_type": "markdown",
   "metadata": {},
   "source": [
    "# Objective:\n",
    "\n",
    "### Guess The Product\n",
    "\n",
    "A huge challenge is faced by manufacturing companies in classifying the raw materials(products) received from vendors. Help them to classify the products by building a machine learning model that could predict the product category based on certain features. "
   ]
  },
  {
   "cell_type": "markdown",
   "metadata": {},
   "source": [
    "# Task to be performed:\n",
    "\n",
    "The following description of every column in the dataset.\n",
    "\n",
    "1. Inv_id:\tAn invoice ID is a number generated after every successful checkout by a buyer.\n",
    "\n",
    "2. Vendor_Code:\tVendor code is the Vendor name that is used during the creation of the Product Order.\n",
    "\n",
    "3. GL_Code:\tGeneral ledger (GL) code, is a number used to record business transactions in the general ledger.\n",
    "\n",
    "4. Inv_Amt:\tThe Invoice amount is the amount of the bill. the amount stated in the bill is called the invoice amount.\n",
    "\n",
    "5. Item_Description:\tBrief description of the item.\n",
    "\n",
    "6. Product_Category:\tClass to which the product belongs.\n",
    "\n",
    "Submission Requirements\n",
    "\n",
    "1.\tThe submission.csv should be of exact format as of sample_submission.csv.\n",
    "2.\tI have submitted the corresponding Python/R script which should contain the following:\n",
    "\n",
    "    a.\tExploratory Data Analysis of variables\n",
    "    b.\tML model\n",
    "    c.\tModel Evaluation\n",
    "    d.\tCode to generate submission.csv"
   ]
  },
  {
   "cell_type": "code",
   "execution_count": 1,
   "metadata": {},
   "outputs": [],
   "source": [
    "# Loading necessary libraries\n",
    "\n",
    "import numpy as np\n",
    "import pandas as pd\n",
    "import matplotlib.pyplot as plt\n",
    "%matplotlib inline\n",
    "import seaborn as sns"
   ]
  },
  {
   "cell_type": "code",
   "execution_count": 2,
   "metadata": {},
   "outputs": [],
   "source": [
    "train_df = pd.read_csv('train_set.csv')\n",
    "test_df = pd.read_csv('test_set.csv')"
   ]
  },
  {
   "cell_type": "code",
   "execution_count": 3,
   "metadata": {},
   "outputs": [
    {
     "data": {
      "text/plain": [
       "((5288, 6), (278, 5))"
      ]
     },
     "execution_count": 3,
     "metadata": {},
     "output_type": "execute_result"
    }
   ],
   "source": [
    "train_df.shape, test_df.shape"
   ]
  },
  {
   "cell_type": "code",
   "execution_count": 4,
   "metadata": {},
   "outputs": [
    {
     "data": {
      "text/html": [
       "<div>\n",
       "<style scoped>\n",
       "    .dataframe tbody tr th:only-of-type {\n",
       "        vertical-align: middle;\n",
       "    }\n",
       "\n",
       "    .dataframe tbody tr th {\n",
       "        vertical-align: top;\n",
       "    }\n",
       "\n",
       "    .dataframe thead th {\n",
       "        text-align: right;\n",
       "    }\n",
       "</style>\n",
       "<table border=\"1\" class=\"dataframe\">\n",
       "  <thead>\n",
       "    <tr style=\"text-align: right;\">\n",
       "      <th></th>\n",
       "      <th>Inv_Id</th>\n",
       "      <th>Vendor_Code</th>\n",
       "      <th>GL_Code</th>\n",
       "      <th>Inv_Amt</th>\n",
       "      <th>Item_Description</th>\n",
       "      <th>Product_Category</th>\n",
       "    </tr>\n",
       "  </thead>\n",
       "  <tbody>\n",
       "    <tr>\n",
       "      <td>0</td>\n",
       "      <td>15001</td>\n",
       "      <td>VENDOR-1676</td>\n",
       "      <td>GL-6100410</td>\n",
       "      <td>83.24</td>\n",
       "      <td>Artworking/Typesetting Production Jun 2009 Cha...</td>\n",
       "      <td>CLASS-1963</td>\n",
       "    </tr>\n",
       "    <tr>\n",
       "      <td>1</td>\n",
       "      <td>15002</td>\n",
       "      <td>VENDOR-1883</td>\n",
       "      <td>GL-2182000</td>\n",
       "      <td>51.18</td>\n",
       "      <td>Auto Leasing Corporate Services Corning Inc /N...</td>\n",
       "      <td>CLASS-1250</td>\n",
       "    </tr>\n",
       "    <tr>\n",
       "      <td>2</td>\n",
       "      <td>15004</td>\n",
       "      <td>VENDOR-1999</td>\n",
       "      <td>GL-6050100</td>\n",
       "      <td>79.02</td>\n",
       "      <td>Store Management Lease/Rent Deltona Corp Real ...</td>\n",
       "      <td>CLASS-1274</td>\n",
       "    </tr>\n",
       "    <tr>\n",
       "      <td>3</td>\n",
       "      <td>15005</td>\n",
       "      <td>VENDOR-1771</td>\n",
       "      <td>GL-6101400</td>\n",
       "      <td>48.50</td>\n",
       "      <td>Store Construction General Requirements Coloni...</td>\n",
       "      <td>CLASS-1522</td>\n",
       "    </tr>\n",
       "    <tr>\n",
       "      <td>4</td>\n",
       "      <td>15006</td>\n",
       "      <td>VENDOR-1331</td>\n",
       "      <td>GL-2182000</td>\n",
       "      <td>63.35</td>\n",
       "      <td>Jul 2015 Aydin Corp Contingent Labor/Temp Labo...</td>\n",
       "      <td>CLASS-1376</td>\n",
       "    </tr>\n",
       "  </tbody>\n",
       "</table>\n",
       "</div>"
      ],
      "text/plain": [
       "   Inv_Id  Vendor_Code     GL_Code  Inv_Amt  \\\n",
       "0   15001  VENDOR-1676  GL-6100410    83.24   \n",
       "1   15002  VENDOR-1883  GL-2182000    51.18   \n",
       "2   15004  VENDOR-1999  GL-6050100    79.02   \n",
       "3   15005  VENDOR-1771  GL-6101400    48.50   \n",
       "4   15006  VENDOR-1331  GL-2182000    63.35   \n",
       "\n",
       "                                    Item_Description Product_Category  \n",
       "0  Artworking/Typesetting Production Jun 2009 Cha...       CLASS-1963  \n",
       "1  Auto Leasing Corporate Services Corning Inc /N...       CLASS-1250  \n",
       "2  Store Management Lease/Rent Deltona Corp Real ...       CLASS-1274  \n",
       "3  Store Construction General Requirements Coloni...       CLASS-1522  \n",
       "4  Jul 2015 Aydin Corp Contingent Labor/Temp Labo...       CLASS-1376  "
      ]
     },
     "execution_count": 4,
     "metadata": {},
     "output_type": "execute_result"
    }
   ],
   "source": [
    "train_df.head()"
   ]
  },
  {
   "cell_type": "code",
   "execution_count": 5,
   "metadata": {},
   "outputs": [
    {
     "data": {
      "text/html": [
       "<div>\n",
       "<style scoped>\n",
       "    .dataframe tbody tr th:only-of-type {\n",
       "        vertical-align: middle;\n",
       "    }\n",
       "\n",
       "    .dataframe tbody tr th {\n",
       "        vertical-align: top;\n",
       "    }\n",
       "\n",
       "    .dataframe thead th {\n",
       "        text-align: right;\n",
       "    }\n",
       "</style>\n",
       "<table border=\"1\" class=\"dataframe\">\n",
       "  <thead>\n",
       "    <tr style=\"text-align: right;\">\n",
       "      <th></th>\n",
       "      <th>Inv_Id</th>\n",
       "      <th>Vendor_Code</th>\n",
       "      <th>GL_Code</th>\n",
       "      <th>Inv_Amt</th>\n",
       "      <th>Item_Description</th>\n",
       "    </tr>\n",
       "  </thead>\n",
       "  <tbody>\n",
       "    <tr>\n",
       "      <td>0</td>\n",
       "      <td>15041</td>\n",
       "      <td>VENDOR-1181</td>\n",
       "      <td>GL-6050100</td>\n",
       "      <td>88.80</td>\n",
       "      <td>Base Rent Store Management Aig Equity Sales Co...</td>\n",
       "    </tr>\n",
       "    <tr>\n",
       "      <td>1</td>\n",
       "      <td>15094</td>\n",
       "      <td>VENDOR-1554</td>\n",
       "      <td>GL-6100410</td>\n",
       "      <td>80.08</td>\n",
       "      <td>Prototype and Comp Production/Packaging Design...</td>\n",
       "    </tr>\n",
       "    <tr>\n",
       "      <td>2</td>\n",
       "      <td>15112</td>\n",
       "      <td>VENDOR-1513</td>\n",
       "      <td>GL-6050310</td>\n",
       "      <td>24.23</td>\n",
       "      <td>Ground Transportation Travel and Entertainment...</td>\n",
       "    </tr>\n",
       "    <tr>\n",
       "      <td>3</td>\n",
       "      <td>15179</td>\n",
       "      <td>VENDOR-1044</td>\n",
       "      <td>GL-6101400</td>\n",
       "      <td>38.85</td>\n",
       "      <td>Store Construction General Requirements Advanc...</td>\n",
       "    </tr>\n",
       "    <tr>\n",
       "      <td>4</td>\n",
       "      <td>15212</td>\n",
       "      <td>VENDOR-1114</td>\n",
       "      <td>GL-6050310</td>\n",
       "      <td>94.15</td>\n",
       "      <td>Travel and Entertainment Miscellaneous Company...</td>\n",
       "    </tr>\n",
       "  </tbody>\n",
       "</table>\n",
       "</div>"
      ],
      "text/plain": [
       "   Inv_Id  Vendor_Code     GL_Code  Inv_Amt  \\\n",
       "0   15041  VENDOR-1181  GL-6050100    88.80   \n",
       "1   15094  VENDOR-1554  GL-6100410    80.08   \n",
       "2   15112  VENDOR-1513  GL-6050310    24.23   \n",
       "3   15179  VENDOR-1044  GL-6101400    38.85   \n",
       "4   15212  VENDOR-1114  GL-6050310    94.15   \n",
       "\n",
       "                                    Item_Description  \n",
       "0  Base Rent Store Management Aig Equity Sales Co...  \n",
       "1  Prototype and Comp Production/Packaging Design...  \n",
       "2  Ground Transportation Travel and Entertainment...  \n",
       "3  Store Construction General Requirements Advanc...  \n",
       "4  Travel and Entertainment Miscellaneous Company...  "
      ]
     },
     "execution_count": 5,
     "metadata": {},
     "output_type": "execute_result"
    }
   ],
   "source": [
    "test_df.head()"
   ]
  },
  {
   "cell_type": "code",
   "execution_count": 6,
   "metadata": {},
   "outputs": [
    {
     "name": "stdout",
     "output_type": "stream",
     "text": [
      "<class 'pandas.core.frame.DataFrame'>\n",
      "RangeIndex: 5288 entries, 0 to 5287\n",
      "Data columns (total 6 columns):\n",
      "Inv_Id              5288 non-null int64\n",
      "Vendor_Code         5288 non-null object\n",
      "GL_Code             5288 non-null object\n",
      "Inv_Amt             5288 non-null float64\n",
      "Item_Description    5288 non-null object\n",
      "Product_Category    5288 non-null object\n",
      "dtypes: float64(1), int64(1), object(4)\n",
      "memory usage: 248.0+ KB\n"
     ]
    }
   ],
   "source": [
    "train_df.info()"
   ]
  },
  {
   "cell_type": "code",
   "execution_count": 7,
   "metadata": {},
   "outputs": [
    {
     "name": "stdout",
     "output_type": "stream",
     "text": [
      "<class 'pandas.core.frame.DataFrame'>\n",
      "RangeIndex: 278 entries, 0 to 277\n",
      "Data columns (total 5 columns):\n",
      "Inv_Id              278 non-null int64\n",
      "Vendor_Code         278 non-null object\n",
      "GL_Code             278 non-null object\n",
      "Inv_Amt             278 non-null float64\n",
      "Item_Description    278 non-null object\n",
      "dtypes: float64(1), int64(1), object(3)\n",
      "memory usage: 11.0+ KB\n"
     ]
    }
   ],
   "source": [
    "test_df.info()"
   ]
  },
  {
   "cell_type": "code",
   "execution_count": 8,
   "metadata": {},
   "outputs": [
    {
     "data": {
      "text/html": [
       "<div>\n",
       "<style scoped>\n",
       "    .dataframe tbody tr th:only-of-type {\n",
       "        vertical-align: middle;\n",
       "    }\n",
       "\n",
       "    .dataframe tbody tr th {\n",
       "        vertical-align: top;\n",
       "    }\n",
       "\n",
       "    .dataframe thead th {\n",
       "        text-align: right;\n",
       "    }\n",
       "</style>\n",
       "<table border=\"1\" class=\"dataframe\">\n",
       "  <thead>\n",
       "    <tr style=\"text-align: right;\">\n",
       "      <th></th>\n",
       "      <th>count</th>\n",
       "      <th>mean</th>\n",
       "      <th>std</th>\n",
       "      <th>min</th>\n",
       "      <th>25%</th>\n",
       "      <th>50%</th>\n",
       "      <th>75%</th>\n",
       "      <th>max</th>\n",
       "    </tr>\n",
       "  </thead>\n",
       "  <tbody>\n",
       "    <tr>\n",
       "      <td>Inv_Id</td>\n",
       "      <td>5288.0</td>\n",
       "      <td>19016.049924</td>\n",
       "      <td>2310.739549</td>\n",
       "      <td>15001.00</td>\n",
       "      <td>17013.7500</td>\n",
       "      <td>19023.00</td>\n",
       "      <td>21004.250</td>\n",
       "      <td>23010.00</td>\n",
       "    </tr>\n",
       "    <tr>\n",
       "      <td>Inv_Amt</td>\n",
       "      <td>5288.0</td>\n",
       "      <td>49.890034</td>\n",
       "      <td>28.835716</td>\n",
       "      <td>0.01</td>\n",
       "      <td>25.0625</td>\n",
       "      <td>49.56</td>\n",
       "      <td>74.945</td>\n",
       "      <td>99.99</td>\n",
       "    </tr>\n",
       "  </tbody>\n",
       "</table>\n",
       "</div>"
      ],
      "text/plain": [
       "          count          mean          std       min         25%       50%  \\\n",
       "Inv_Id   5288.0  19016.049924  2310.739549  15001.00  17013.7500  19023.00   \n",
       "Inv_Amt  5288.0     49.890034    28.835716      0.01     25.0625     49.56   \n",
       "\n",
       "               75%       max  \n",
       "Inv_Id   21004.250  23010.00  \n",
       "Inv_Amt     74.945     99.99  "
      ]
     },
     "execution_count": 8,
     "metadata": {},
     "output_type": "execute_result"
    }
   ],
   "source": [
    "train_df.describe().transpose()"
   ]
  },
  {
   "cell_type": "code",
   "execution_count": 9,
   "metadata": {},
   "outputs": [
    {
     "name": "stdout",
     "output_type": "stream",
     "text": [
      "Number of missing values in the dataset is:\n",
      " Inv_Id              0\n",
      "Vendor_Code         0\n",
      "GL_Code             0\n",
      "Inv_Amt             0\n",
      "Item_Description    0\n",
      "Product_Category    0\n",
      "dtype: int64\n",
      "Number of missing values in the dataset is:\n",
      " Inv_Id              0\n",
      "Vendor_Code         0\n",
      "GL_Code             0\n",
      "Inv_Amt             0\n",
      "Item_Description    0\n",
      "dtype: int64\n"
     ]
    }
   ],
   "source": [
    "# Information related to number of missing observations for each column\n",
    "\n",
    "print('Number of missing values in the dataset is:\\n', train_df.isnull().sum())\n",
    "print('Number of missing values in the dataset is:\\n', test_df.isnull().sum())"
   ]
  },
  {
   "cell_type": "code",
   "execution_count": 10,
   "metadata": {},
   "outputs": [
    {
     "data": {
      "image/png": "[encoded data removed]",
      "text/plain": [
       "<Figure size 1080x720 with 1 Axes>"
      ]
     },
     "metadata": {
      "needs_background": "light"
     },
     "output_type": "display_data"
    }
   ],
   "source": [
    "# Checking the distribution of target column\n",
    "\n",
    "plt.figure(figsize=(15,10))\n",
    "train_df['Product_Category'].value_counts().plot.bar()\n",
    "plt.show()"
   ]
  },
  {
   "cell_type": "code",
   "execution_count": 11,
   "metadata": {},
   "outputs": [
    {
     "data": {
      "text/plain": [
       "CLASS-1758    1421\n",
       "CLASS-1274     939\n",
       "CLASS-1522     803\n",
       "CLASS-1250     440\n",
       "CLASS-1376     347\n",
       "CLASS-1963     215\n",
       "CLASS-1249     167\n",
       "CLASS-1828     107\n",
       "CLASS-2141     103\n",
       "CLASS-1721     103\n",
       "CLASS-1567      80\n",
       "CLASS-1919      61\n",
       "CLASS-2112      52\n",
       "CLASS-1850      51\n",
       "CLASS-1477      48\n",
       "CLASS-2241      36\n",
       "CLASS-1870      35\n",
       "CLASS-2003      31\n",
       "CLASS-1309      31\n",
       "CLASS-1429      30\n",
       "CLASS-1322      28\n",
       "CLASS-1964      27\n",
       "CLASS-1294      24\n",
       "CLASS-1770      19\n",
       "CLASS-1983      16\n",
       "CLASS-1867      15\n",
       "CLASS-1652      14\n",
       "CLASS-2038      13\n",
       "CLASS-1805      10\n",
       "CLASS-2152       9\n",
       "CLASS-1688       4\n",
       "CLASS-1248       4\n",
       "CLASS-2146       2\n",
       "CLASS-2015       1\n",
       "CLASS-1838       1\n",
       "CLASS-1957       1\n",
       "Name: Product_Category, dtype: int64"
      ]
     },
     "execution_count": 11,
     "metadata": {},
     "output_type": "execute_result"
    }
   ],
   "source": [
    "# Also checking the 'Product_Category' counts as some categories are highly populated\n",
    "\n",
    "train_df['Product_Category'].value_counts()"
   ]
  },
  {
   "cell_type": "code",
   "execution_count": 12,
   "metadata": {},
   "outputs": [
    {
     "name": "stdout",
     "output_type": "stream",
     "text": [
      "The number of unique categories are: 36\n"
     ]
    }
   ],
   "source": [
    "print('The number of unique categories are:',train_df['Product_Category'].nunique())"
   ]
  },
  {
   "cell_type": "code",
   "execution_count": 13,
   "metadata": {},
   "outputs": [
    {
     "data": {
      "image/png": "[encoded data removed]",
      "text/plain": [
       "<Figure size 1080x720 with 1 Axes>"
      ]
     },
     "metadata": {
      "needs_background": "light"
     },
     "output_type": "display_data"
    }
   ],
   "source": [
    "# Checking the distribution of 'GL_Code' column\n",
    "\n",
    "plt.figure(figsize=(15,10))\n",
    "train_df['GL_Code'].value_counts().plot.bar()\n",
    "plt.show()"
   ]
  },
  {
   "cell_type": "code",
   "execution_count": 14,
   "metadata": {},
   "outputs": [
    {
     "data": {
      "text/plain": [
       "<matplotlib.axes._subplots.AxesSubplot at 0x1cb256a8780>"
      ]
     },
     "execution_count": 14,
     "metadata": {},
     "output_type": "execute_result"
    },
    {
     "data": {
      "image/png": "[encoded data removed]",
      "text/plain": [
       "<Figure size 432x288 with 1 Axes>"
      ]
     },
     "metadata": {
      "needs_background": "light"
     },
     "output_type": "display_data"
    }
   ],
   "source": [
    "# Checking the kernel density estimation(kde) of 'Invoice_Amount'.\n",
    "\n",
    "plt.figure()\n",
    "plt.title('KDE of Inv_Amt')\n",
    "sns.distplot(train_df['Inv_Amt'])"
   ]
  },
  {
   "cell_type": "markdown",
   "metadata": {},
   "source": [
    "## Feature Encoding using Label encoder"
   ]
  },
  {
   "cell_type": "code",
   "execution_count": 15,
   "metadata": {},
   "outputs": [
    {
     "data": {
      "text/html": [
       "<div>\n",
       "<style scoped>\n",
       "    .dataframe tbody tr th:only-of-type {\n",
       "        vertical-align: middle;\n",
       "    }\n",
       "\n",
       "    .dataframe tbody tr th {\n",
       "        vertical-align: top;\n",
       "    }\n",
       "\n",
       "    .dataframe thead th {\n",
       "        text-align: right;\n",
       "    }\n",
       "</style>\n",
       "<table border=\"1\" class=\"dataframe\">\n",
       "  <thead>\n",
       "    <tr style=\"text-align: right;\">\n",
       "      <th></th>\n",
       "      <th>Inv_Id</th>\n",
       "      <th>Vendor_Code</th>\n",
       "      <th>GL_Code</th>\n",
       "      <th>Inv_Amt</th>\n",
       "      <th>Item_Description</th>\n",
       "      <th>Product_Category</th>\n",
       "    </tr>\n",
       "  </thead>\n",
       "  <tbody>\n",
       "    <tr>\n",
       "      <td>0</td>\n",
       "      <td>15001</td>\n",
       "      <td>546</td>\n",
       "      <td>5</td>\n",
       "      <td>83.24</td>\n",
       "      <td>Artworking/Typesetting Production Jun 2009 Cha...</td>\n",
       "      <td>CLASS-1963</td>\n",
       "    </tr>\n",
       "    <tr>\n",
       "      <td>1</td>\n",
       "      <td>15002</td>\n",
       "      <td>709</td>\n",
       "      <td>0</td>\n",
       "      <td>51.18</td>\n",
       "      <td>Auto Leasing Corporate Services Corning Inc /N...</td>\n",
       "      <td>CLASS-1250</td>\n",
       "    </tr>\n",
       "    <tr>\n",
       "      <td>2</td>\n",
       "      <td>15004</td>\n",
       "      <td>806</td>\n",
       "      <td>2</td>\n",
       "      <td>79.02</td>\n",
       "      <td>Store Management Lease/Rent Deltona Corp Real ...</td>\n",
       "      <td>CLASS-1274</td>\n",
       "    </tr>\n",
       "    <tr>\n",
       "      <td>3</td>\n",
       "      <td>15005</td>\n",
       "      <td>619</td>\n",
       "      <td>7</td>\n",
       "      <td>48.50</td>\n",
       "      <td>Store Construction General Requirements Coloni...</td>\n",
       "      <td>CLASS-1522</td>\n",
       "    </tr>\n",
       "    <tr>\n",
       "      <td>4</td>\n",
       "      <td>15006</td>\n",
       "      <td>259</td>\n",
       "      <td>0</td>\n",
       "      <td>63.35</td>\n",
       "      <td>Jul 2015 Aydin Corp Contingent Labor/Temp Labo...</td>\n",
       "      <td>CLASS-1376</td>\n",
       "    </tr>\n",
       "  </tbody>\n",
       "</table>\n",
       "</div>"
      ],
      "text/plain": [
       "   Inv_Id  Vendor_Code  GL_Code  Inv_Amt  \\\n",
       "0   15001          546        5    83.24   \n",
       "1   15002          709        0    51.18   \n",
       "2   15004          806        2    79.02   \n",
       "3   15005          619        7    48.50   \n",
       "4   15006          259        0    63.35   \n",
       "\n",
       "                                    Item_Description Product_Category  \n",
       "0  Artworking/Typesetting Production Jun 2009 Cha...       CLASS-1963  \n",
       "1  Auto Leasing Corporate Services Corning Inc /N...       CLASS-1250  \n",
       "2  Store Management Lease/Rent Deltona Corp Real ...       CLASS-1274  \n",
       "3  Store Construction General Requirements Coloni...       CLASS-1522  \n",
       "4  Jul 2015 Aydin Corp Contingent Labor/Temp Labo...       CLASS-1376  "
      ]
     },
     "execution_count": 15,
     "metadata": {},
     "output_type": "execute_result"
    }
   ],
   "source": [
    "from sklearn.preprocessing import LabelEncoder\n",
    "for col in ['GL_Code', 'Vendor_Code']:\n",
    "    \n",
    "    le = LabelEncoder()\n",
    "    le.fit(list(train_df[col]) + list(test_df[col]))\n",
    "    train_df[col] = le.transform(train_df[col])\n",
    "    test_df[col] = le.transform(test_df[col])\n",
    "\n",
    "train_df.head()"
   ]
  },
  {
   "cell_type": "markdown",
   "metadata": {},
   "source": [
    "## Text Processing of Item_Description "
   ]
  },
  {
   "cell_type": "code",
   "execution_count": 17,
   "metadata": {},
   "outputs": [
    {
     "name": "stdout",
     "output_type": "stream",
     "text": [
      "Artworking/Typesetting Production Jun 2009 Champion Parts Inc SMAP Prototype and Comp Production/Packaging Design\n",
      "----------------------------------------\n",
      "Corning Inc /Ny Auto Leasing 2019May Auto Leasing and Maintenance Other Corporate Services Corporate Services\n",
      "----------------------------------------\n"
     ]
    }
   ],
   "source": [
    "# printing some random 'Item_Description'\n",
    "sent_0 = train_df['Item_Description'].values[0]\n",
    "print(sent_0)\n",
    "print('----------------------------------------')\n",
    "\n",
    "sent_100 = train_df['Item_Description'].values[100]\n",
    "print(sent_100)\n",
    "print('----------------------------------------')"
   ]
  },
  {
   "cell_type": "code",
   "execution_count": 18,
   "metadata": {},
   "outputs": [
    {
     "name": "stdout",
     "output_type": "stream",
     "text": [
      "Requirement already satisfied: wordcloud in c:\\users\\karan\\appdata\\local\\programs\\python\\python36\\lib\\site-packages (1.6.0)\n",
      "Requirement already satisfied: numpy>=1.6.1 in c:\\users\\karan\\appdata\\local\\programs\\python\\python36\\lib\\site-packages (from wordcloud) (1.17.2)\n",
      "Requirement already satisfied: pillow in c:\\users\\karan\\appdata\\local\\programs\\python\\python36\\lib\\site-packages (from wordcloud) (7.0.0)\n",
      "Requirement already satisfied: matplotlib in c:\\users\\karan\\appdata\\roaming\\python\\python36\\site-packages (from wordcloud) (3.1.3)\n",
      "Requirement already satisfied: pyparsing!=2.0.4,!=2.1.2,!=2.1.6,>=2.0.1 in c:\\users\\karan\\appdata\\local\\programs\\python\\python36\\lib\\site-packages (from matplotlib->wordcloud) (2.4.2)\n",
      "Requirement already satisfied: kiwisolver>=1.0.1 in c:\\users\\karan\\appdata\\local\\programs\\python\\python36\\lib\\site-packages (from matplotlib->wordcloud) (1.1.0)\n",
      "Requirement already satisfied: cycler>=0.10 in c:\\users\\karan\\appdata\\local\\programs\\python\\python36\\lib\\site-packages (from matplotlib->wordcloud) (0.10.0)\n",
      "Requirement already satisfied: python-dateutil>=2.1 in c:\\users\\karan\\appdata\\local\\programs\\python\\python36\\lib\\site-packages (from matplotlib->wordcloud) (2.8.0)\n",
      "Requirement already satisfied: setuptools in c:\\users\\karan\\appdata\\local\\programs\\python\\python36\\lib\\site-packages (from kiwisolver>=1.0.1->matplotlib->wordcloud) (45.0.0)\n",
      "Requirement already satisfied: six in c:\\users\\karan\\appdata\\local\\programs\\python\\python36\\lib\\site-packages (from cycler>=0.10->matplotlib->wordcloud) (1.12.0)\n"
     ]
    }
   ],
   "source": [
    "!pip install wordcloud"
   ]
  },
  {
   "cell_type": "code",
   "execution_count": 19,
   "metadata": {},
   "outputs": [],
   "source": [
    "from wordcloud import WordCloud, STOPWORDS\n",
    "\n",
    "stopwords = set(STOPWORDS)"
   ]
  },
  {
   "cell_type": "code",
   "execution_count": 20,
   "metadata": {},
   "outputs": [
    {
     "name": "stdout",
     "output_type": "stream",
     "text": [
      "Requirement already satisfied: tqdm in c:\\users\\karan\\appdata\\local\\programs\\python\\python36\\lib\\site-packages (4.43.0)\n"
     ]
    }
   ],
   "source": [
    "!pip install tqdm"
   ]
  },
  {
   "cell_type": "code",
   "execution_count": 21,
   "metadata": {},
   "outputs": [
    {
     "name": "stderr",
     "output_type": "stream",
     "text": [
      "100%|███████████████████████████████████████████████████████████████████████████| 5288/5288 [00:00<00:00, 11761.74it/s]\n"
     ]
    }
   ],
   "source": [
    "#The re.sub() function in the re(regular expressions) module can be used to replace substrings. \n",
    "# tqdm is for printing the status bar\n",
    "\n",
    "from tqdm import tqdm\n",
    "import re\n",
    "preprocessed_text = []\n",
    "\n",
    "for sentence in tqdm(train_df['Item_Description'].values):\n",
    "    sentence = re.sub(\"\\S*\\d\\S*\", '', sentence).strip()\n",
    "    sentence = re.sub('[^A-Za-z]+', ' ', sentence)\n",
    "    \n",
    "    sentence = ' '.join(e.lower() for e in sentence.split() if e.lower() not in stopwords)\n",
    "    preprocessed_text.append(sentence.strip())"
   ]
  },
  {
   "cell_type": "code",
   "execution_count": 22,
   "metadata": {},
   "outputs": [],
   "source": [
    "train_df['Item_Description_Preprocessed'] = preprocessed_text\n",
    "train_df.drop('Item_Description',axis=1,inplace=True)"
   ]
  },
  {
   "cell_type": "code",
   "execution_count": 23,
   "metadata": {},
   "outputs": [
    {
     "data": {
      "text/html": [
       "<div>\n",
       "<style scoped>\n",
       "    .dataframe tbody tr th:only-of-type {\n",
       "        vertical-align: middle;\n",
       "    }\n",
       "\n",
       "    .dataframe tbody tr th {\n",
       "        vertical-align: top;\n",
       "    }\n",
       "\n",
       "    .dataframe thead th {\n",
       "        text-align: right;\n",
       "    }\n",
       "</style>\n",
       "<table border=\"1\" class=\"dataframe\">\n",
       "  <thead>\n",
       "    <tr style=\"text-align: right;\">\n",
       "      <th></th>\n",
       "      <th>Inv_Id</th>\n",
       "      <th>Vendor_Code</th>\n",
       "      <th>GL_Code</th>\n",
       "      <th>Inv_Amt</th>\n",
       "      <th>Product_Category</th>\n",
       "      <th>Item_Description_Preprocessed</th>\n",
       "    </tr>\n",
       "  </thead>\n",
       "  <tbody>\n",
       "    <tr>\n",
       "      <td>0</td>\n",
       "      <td>15001</td>\n",
       "      <td>546</td>\n",
       "      <td>5</td>\n",
       "      <td>83.24</td>\n",
       "      <td>CLASS-1963</td>\n",
       "      <td>artworking typesetting production jun champion...</td>\n",
       "    </tr>\n",
       "    <tr>\n",
       "      <td>1</td>\n",
       "      <td>15002</td>\n",
       "      <td>709</td>\n",
       "      <td>0</td>\n",
       "      <td>51.18</td>\n",
       "      <td>CLASS-1250</td>\n",
       "      <td>auto leasing corporate services corning inc ny...</td>\n",
       "    </tr>\n",
       "    <tr>\n",
       "      <td>2</td>\n",
       "      <td>15004</td>\n",
       "      <td>806</td>\n",
       "      <td>2</td>\n",
       "      <td>79.02</td>\n",
       "      <td>CLASS-1274</td>\n",
       "      <td>store management lease rent deltona corp real ...</td>\n",
       "    </tr>\n",
       "    <tr>\n",
       "      <td>3</td>\n",
       "      <td>15005</td>\n",
       "      <td>619</td>\n",
       "      <td>7</td>\n",
       "      <td>48.50</td>\n",
       "      <td>CLASS-1522</td>\n",
       "      <td>store construction general requirements coloni...</td>\n",
       "    </tr>\n",
       "    <tr>\n",
       "      <td>4</td>\n",
       "      <td>15006</td>\n",
       "      <td>259</td>\n",
       "      <td>0</td>\n",
       "      <td>63.35</td>\n",
       "      <td>CLASS-1376</td>\n",
       "      <td>jul aydin corp contingent labor temp labor con...</td>\n",
       "    </tr>\n",
       "  </tbody>\n",
       "</table>\n",
       "</div>"
      ],
      "text/plain": [
       "   Inv_Id  Vendor_Code  GL_Code  Inv_Amt Product_Category  \\\n",
       "0   15001          546        5    83.24       CLASS-1963   \n",
       "1   15002          709        0    51.18       CLASS-1250   \n",
       "2   15004          806        2    79.02       CLASS-1274   \n",
       "3   15005          619        7    48.50       CLASS-1522   \n",
       "4   15006          259        0    63.35       CLASS-1376   \n",
       "\n",
       "                       Item_Description_Preprocessed  \n",
       "0  artworking typesetting production jun champion...  \n",
       "1  auto leasing corporate services corning inc ny...  \n",
       "2  store management lease rent deltona corp real ...  \n",
       "3  store construction general requirements coloni...  \n",
       "4  jul aydin corp contingent labor temp labor con...  "
      ]
     },
     "execution_count": 23,
     "metadata": {},
     "output_type": "execute_result"
    }
   ],
   "source": [
    "train_df.head()"
   ]
  },
  {
   "cell_type": "code",
   "execution_count": 24,
   "metadata": {},
   "outputs": [
    {
     "data": {
      "text/plain": [
       "array(['artworking typesetting production jun champion parts inc smap prototype comp production packaging design',\n",
       "       'auto leasing corporate services corning inc ny auto leasing maintenance corporate services',\n",
       "       'store management lease rent deltona corp real estate base rent',\n",
       "       ...,\n",
       "       'logistics transportation services parcel postage courier etz lavud ltd supply chain',\n",
       "       'addmaster corp magazines media buy traditional smap national advertising',\n",
       "       'information technology managed services friedman samuel managed services managed services'],\n",
       "      dtype=object)"
      ]
     },
     "execution_count": 24,
     "metadata": {},
     "output_type": "execute_result"
    }
   ],
   "source": [
    "train_df['Item_Description_Preprocessed'].values"
   ]
  },
  {
   "cell_type": "code",
   "execution_count": 25,
   "metadata": {},
   "outputs": [
    {
     "name": "stdout",
     "output_type": "stream",
     "text": [
      "Requirement already satisfied: nltk in c:\\users\\karan\\appdata\\local\\programs\\python\\python36\\lib\\site-packages (3.4.5)\n",
      "Requirement already satisfied: six in c:\\users\\karan\\appdata\\local\\programs\\python\\python36\\lib\\site-packages (from nltk) (1.12.0)\n"
     ]
    }
   ],
   "source": [
    "!pip install nltk"
   ]
  },
  {
   "cell_type": "code",
   "execution_count": 26,
   "metadata": {},
   "outputs": [],
   "source": [
    "import string\n",
    "import nltk\n",
    "from nltk.corpus import stopwords \n",
    "from sklearn.feature_extraction.text import TfidfVectorizer\n",
    "from sklearn.model_selection import GridSearchCV, train_test_split\n",
    "from sklearn.metrics import accuracy_score\n",
    "from sklearn.model_selection import StratifiedKFold"
   ]
  },
  {
   "cell_type": "code",
   "execution_count": 27,
   "metadata": {},
   "outputs": [
    {
     "name": "stdout",
     "output_type": "stream",
     "text": [
      "some sample features(unique words in the corpus) are:  ['account', 'acme', 'adr', 'adr ground', 'adr miscellaneous', 'adr travel', 'adv', 'advertising', 'advertising media', 'advertising smap', 'agency', 'agency agency', 'agency fees', 'agency production', 'agency smap', 'air', 'air products', 'akorn', 'akorn inc', 'akzo']\n",
      "--------------------------------------------------\n",
      "the type of count vectorizer  <class 'scipy.sparse.csr.csr_matrix'>\n",
      "the shape of out text TFIDF vectorizer  (5288, 868)\n",
      "the number of unique words including both unigrams and bigrams  868\n"
     ]
    }
   ],
   "source": [
    "tf_idf_vect = TfidfVectorizer(ngram_range=(1,2), min_df=10)\n",
    "tf_idf_vect.fit(preprocessed_text)\n",
    "print(\"some sample features(unique words in the corpus) are: \",tf_idf_vect.get_feature_names()[0:20])\n",
    "print('-'*50)\n",
    "\n",
    "final_tf_idf = tf_idf_vect.transform(preprocessed_text)\n",
    "final_tf_idf_test = tf_idf_vect.transform(test_df['Item_Description'])\n",
    "print(\"the type of count vectorizer \",type(final_tf_idf))\n",
    "print(\"the shape of out text TFIDF vectorizer \",final_tf_idf.get_shape())\n",
    "print(\"the number of unique words including both unigrams and bigrams \", final_tf_idf.get_shape()[1])"
   ]
  },
  {
   "cell_type": "code",
   "execution_count": 28,
   "metadata": {},
   "outputs": [],
   "source": [
    "target = LabelEncoder()\n",
    "y_encoded = target.fit_transform(train_df['Product_Category'])"
   ]
  },
  {
   "cell_type": "code",
   "execution_count": 29,
   "metadata": {},
   "outputs": [],
   "source": [
    "X_train, X_valid, y_train, y_valid = train_test_split(final_tf_idf, y_encoded, test_size=0.3, random_state=28)"
   ]
  },
  {
   "cell_type": "code",
   "execution_count": 30,
   "metadata": {},
   "outputs": [
    {
     "name": "stdout",
     "output_type": "stream",
     "text": [
      "Requirement already satisfied: xgboost in c:\\users\\karan\\appdata\\local\\programs\\python\\python36\\lib\\site-packages (1.0.1)\n",
      "Requirement already satisfied: numpy in c:\\users\\karan\\appdata\\local\\programs\\python\\python36\\lib\\site-packages (from xgboost) (1.17.2)\n",
      "Requirement already satisfied: scipy in c:\\users\\karan\\appdata\\local\\programs\\python\\python36\\lib\\site-packages (from xgboost) (1.4.1)\n"
     ]
    }
   ],
   "source": [
    "!pip install xgboost"
   ]
  },
  {
   "cell_type": "code",
   "execution_count": 31,
   "metadata": {},
   "outputs": [
    {
     "name": "stdout",
     "output_type": "stream",
     "text": [
      "[0]\ttrain-mlogloss:2.03301\teval-mlogloss:2.02688\n",
      "[50]\ttrain-mlogloss:0.01505\teval-mlogloss:0.02042\n",
      "[99]\ttrain-mlogloss:0.00418\teval-mlogloss:0.00933\n"
     ]
    }
   ],
   "source": [
    "import xgboost as xgb\n",
    "param = {}\n",
    "# use softmax multi-class classification\n",
    "param['objective'] = 'multi:softprob'\n",
    "param['eta'] = 0.1\n",
    "param['max_depth'] = 6\n",
    "param['silent'] = 1\n",
    "param['nthread'] = 4\n",
    "param['num_class'] = len(target.classes_)\n",
    "param['eval_metric'] = ['mlogloss']\n",
    "param['seed'] = 28\n",
    "\n",
    "dtrain = xgb.DMatrix(X_train, label=y_train)\n",
    "dvalid = xgb.DMatrix(X_valid, label=y_valid)\n",
    "\n",
    "evallist = [(dtrain, 'train'), (dvalid, 'eval')]\n",
    "\n",
    "clf = xgb.train(param, dtrain, 100, evallist, verbose_eval=50)"
   ]
  },
  {
   "cell_type": "code",
   "execution_count": 32,
   "metadata": {},
   "outputs": [
    {
     "name": "stdout",
     "output_type": "stream",
     "text": [
      "Accuracy :  0.9993698802772527\n"
     ]
    }
   ],
   "source": [
    "# We use clf to store trained model values, which are further used to predict value, based on the previously stored weights.\n",
    "y_pred_valid = clf.predict(dvalid)\n",
    "\n",
    "print(\"Accuracy : \",accuracy_score(y_valid, np.argmax(y_pred_valid, axis=1)))"
   ]
  },
  {
   "cell_type": "code",
   "execution_count": 33,
   "metadata": {},
   "outputs": [],
   "source": [
    "dtest = xgb.DMatrix(final_tf_idf_test)\n",
    "y_test_pred = clf.predict(dtest)"
   ]
  },
  {
   "cell_type": "code",
   "execution_count": 34,
   "metadata": {},
   "outputs": [],
   "source": [
    "# inverse_transform: Transform data back to its original space i.e. return an input X_original whose transform would be X.\n",
    "\n",
    "output = test_df[['Inv_Id']].copy()\n",
    "output['Product_Category'] = target.inverse_transform(np.argmax(y_test_pred, axis=1))"
   ]
  },
  {
   "cell_type": "code",
   "execution_count": 35,
   "metadata": {},
   "outputs": [
    {
     "data": {
      "text/plain": [
       "26"
      ]
     },
     "execution_count": 35,
     "metadata": {},
     "output_type": "execute_result"
    }
   ],
   "source": [
    "output['Product_Category'].nunique()"
   ]
  },
  {
   "cell_type": "markdown",
   "metadata": {},
   "source": [
    "Out of total 36 classes the model can able to predict 26 classes with an accuracy of 99.8%"
   ]
  },
  {
   "cell_type": "code",
   "execution_count": 36,
   "metadata": {},
   "outputs": [],
   "source": [
    "# Now checking with Cross-Validation\n",
    "num_splits = 5\n",
    "skf = StratifiedKFold(n_splits= num_splits, random_state=1, shuffle=True)"
   ]
  },
  {
   "cell_type": "code",
   "execution_count": 37,
   "metadata": {},
   "outputs": [
    {
     "name": "stdout",
     "output_type": "stream",
     "text": [
      "(278, 36)\n",
      "\n",
      "FOLD ....  1\n"
     ]
    },
    {
     "name": "stderr",
     "output_type": "stream",
     "text": [
      "c:\\users\\karan\\appdata\\local\\programs\\python\\python36\\lib\\site-packages\\sklearn\\model_selection\\_split.py:657: Warning: The least populated class in y has only 1 members, which is too few. The minimum number of members in any class cannot be less than n_splits=5.\n",
      "  % (min_groups, self.n_splits)), Warning)\n"
     ]
    },
    {
     "name": "stdout",
     "output_type": "stream",
     "text": [
      "[0]\ttrain-mlogloss:2.01860\teval-mlogloss:2.03154\n",
      "[50]\ttrain-mlogloss:0.01409\teval-mlogloss:0.03295\n",
      "[99]\ttrain-mlogloss:0.00345\teval-mlogloss:0.02272\n",
      "\n",
      "FOLD ....  2\n",
      "[0]\ttrain-mlogloss:2.01688\teval-mlogloss:2.02150\n",
      "[50]\ttrain-mlogloss:0.01444\teval-mlogloss:0.02385\n",
      "[99]\ttrain-mlogloss:0.00368\teval-mlogloss:0.01346\n",
      "\n",
      "FOLD ....  3\n",
      "[0]\ttrain-mlogloss:2.01998\teval-mlogloss:2.01891\n",
      "[50]\ttrain-mlogloss:0.01458\teval-mlogloss:0.02246\n",
      "[99]\ttrain-mlogloss:0.00379\teval-mlogloss:0.01221\n",
      "\n",
      "FOLD ....  4\n",
      "[0]\ttrain-mlogloss:2.01994\teval-mlogloss:2.02146\n",
      "[50]\ttrain-mlogloss:0.01444\teval-mlogloss:0.02062\n",
      "[99]\ttrain-mlogloss:0.00374\teval-mlogloss:0.00971\n",
      "\n",
      "FOLD ....  5\n",
      "[0]\ttrain-mlogloss:2.01875\teval-mlogloss:2.01686\n",
      "[50]\ttrain-mlogloss:0.01441\teval-mlogloss:0.02081\n",
      "[99]\ttrain-mlogloss:0.00363\teval-mlogloss:0.01056\n"
     ]
    }
   ],
   "source": [
    "y_test_pred = np.zeros((test_df.shape[0], len(target.classes_)))\n",
    "print(y_test_pred.shape)\n",
    "y_valid_scores = []\n",
    "X = train_df['Item_Description_Preprocessed']\n",
    "fold_cnt = 1\n",
    "dtest = xgb.DMatrix(final_tf_idf_test)\n",
    "\n",
    "for train_index, test_index in skf.split(X, y_encoded):\n",
    "    print(\"\\nFOLD .... \",fold_cnt)\n",
    "    fold_cnt += 1\n",
    "    \n",
    "    X_train, X_valid = X.iloc[train_index], X.iloc[test_index]\n",
    "    y_train, y_valid = y_encoded[train_index], y_encoded[test_index]\n",
    "    \n",
    "    X_train_bow = tf_idf_vect.transform(X_train)   # X_train_bow is X_train Bag of Words(Bow)\n",
    "    X_valid_bow = tf_idf_vect.transform(X_valid)   # X_valid_bow is X_valid Bag of Words(Bow)\n",
    "    \n",
    "    dtrain = xgb.DMatrix(X_train_bow, label=y_train)\n",
    "    dvalid = xgb.DMatrix(X_valid_bow, label=y_valid)\n",
    "\n",
    "    evallist = [(dtrain, 'train'), (dvalid, 'eval')]\n",
    "\n",
    "    clf = xgb.train(param, dtrain, 100, evallist, verbose_eval=50)\n",
    "    \n",
    "    #Predict validation data\n",
    "    y_pred_valid = clf.predict(dvalid)\n",
    "    y_valid_scores.append(accuracy_score(y_valid, np.argmax(y_pred_valid, axis=1)))\n",
    "    \n",
    "    #Predict test data\n",
    "    y_pred = clf.predict(dtest)\n",
    "    \n",
    "    y_test_pred += y_pred"
   ]
  },
  {
   "cell_type": "code",
   "execution_count": 38,
   "metadata": {},
   "outputs": [
    {
     "name": "stdout",
     "output_type": "stream",
     "text": [
      "Validation Scores : [0.996268656716418, 0.9981185324553151, 0.9981060606060606, 0.9980952380952381, 0.997134670487106]\n",
      "Average Score:  0.998\n"
     ]
    }
   ],
   "source": [
    "print(\"Validation Scores :\", y_valid_scores)\n",
    "print(\"Average Score: \",np.round(np.mean(y_valid_scores),3))"
   ]
  },
  {
   "cell_type": "code",
   "execution_count": 39,
   "metadata": {},
   "outputs": [],
   "source": [
    "y_test_pred /= num_splits"
   ]
  },
  {
   "cell_type": "code",
   "execution_count": 40,
   "metadata": {},
   "outputs": [],
   "source": [
    "output['Product_Category'] = target.inverse_transform(np.argmax(y_test_pred, axis=1))"
   ]
  },
  {
   "cell_type": "code",
   "execution_count": 41,
   "metadata": {},
   "outputs": [
    {
     "data": {
      "text/plain": [
       "26"
      ]
     },
     "execution_count": 41,
     "metadata": {},
     "output_type": "execute_result"
    }
   ],
   "source": [
    "output['Product_Category'].nunique()"
   ]
  },
  {
   "cell_type": "markdown",
   "metadata": {},
   "source": [
    "Out of total 36 classes the model can able to predict 26 classes with an accuracy of 99.8% after cross validation."
   ]
  },
  {
   "cell_type": "code",
   "execution_count": 42,
   "metadata": {},
   "outputs": [],
   "source": [
    "output.to_csv(\"submission.csv\", index=False)"
   ]
  },
  {
   "cell_type": "code",
   "execution_count": 43,
   "metadata": {},
   "outputs": [
    {
     "data": {
      "text/html": [
       "<div>\n",
       "<style scoped>\n",
       "    .dataframe tbody tr th:only-of-type {\n",
       "        vertical-align: middle;\n",
       "    }\n",
       "\n",
       "    .dataframe tbody tr th {\n",
       "        vertical-align: top;\n",
       "    }\n",
       "\n",
       "    .dataframe thead th {\n",
       "        text-align: right;\n",
       "    }\n",
       "</style>\n",
       "<table border=\"1\" class=\"dataframe\">\n",
       "  <thead>\n",
       "    <tr style=\"text-align: right;\">\n",
       "      <th></th>\n",
       "      <th>Inv_Id</th>\n",
       "      <th>Product_Category</th>\n",
       "    </tr>\n",
       "  </thead>\n",
       "  <tbody>\n",
       "    <tr>\n",
       "      <td>0</td>\n",
       "      <td>15041</td>\n",
       "      <td>CLASS-1274</td>\n",
       "    </tr>\n",
       "    <tr>\n",
       "      <td>1</td>\n",
       "      <td>15094</td>\n",
       "      <td>CLASS-1963</td>\n",
       "    </tr>\n",
       "    <tr>\n",
       "      <td>2</td>\n",
       "      <td>15112</td>\n",
       "      <td>CLASS-1758</td>\n",
       "    </tr>\n",
       "    <tr>\n",
       "      <td>3</td>\n",
       "      <td>15179</td>\n",
       "      <td>CLASS-1522</td>\n",
       "    </tr>\n",
       "    <tr>\n",
       "      <td>4</td>\n",
       "      <td>15212</td>\n",
       "      <td>CLASS-1758</td>\n",
       "    </tr>\n",
       "    <tr>\n",
       "      <td>5</td>\n",
       "      <td>15312</td>\n",
       "      <td>CLASS-2146</td>\n",
       "    </tr>\n",
       "    <tr>\n",
       "      <td>6</td>\n",
       "      <td>15316</td>\n",
       "      <td>CLASS-1250</td>\n",
       "    </tr>\n",
       "    <tr>\n",
       "      <td>7</td>\n",
       "      <td>15346</td>\n",
       "      <td>CLASS-1274</td>\n",
       "    </tr>\n",
       "    <tr>\n",
       "      <td>8</td>\n",
       "      <td>15399</td>\n",
       "      <td>CLASS-1522</td>\n",
       "    </tr>\n",
       "    <tr>\n",
       "      <td>9</td>\n",
       "      <td>15422</td>\n",
       "      <td>CLASS-1522</td>\n",
       "    </tr>\n",
       "    <tr>\n",
       "      <td>10</td>\n",
       "      <td>15448</td>\n",
       "      <td>CLASS-1274</td>\n",
       "    </tr>\n",
       "    <tr>\n",
       "      <td>11</td>\n",
       "      <td>15491</td>\n",
       "      <td>CLASS-1567</td>\n",
       "    </tr>\n",
       "    <tr>\n",
       "      <td>12</td>\n",
       "      <td>15499</td>\n",
       "      <td>CLASS-1376</td>\n",
       "    </tr>\n",
       "    <tr>\n",
       "      <td>13</td>\n",
       "      <td>15524</td>\n",
       "      <td>CLASS-1274</td>\n",
       "    </tr>\n",
       "    <tr>\n",
       "      <td>14</td>\n",
       "      <td>15597</td>\n",
       "      <td>CLASS-1758</td>\n",
       "    </tr>\n",
       "    <tr>\n",
       "      <td>15</td>\n",
       "      <td>15682</td>\n",
       "      <td>CLASS-1758</td>\n",
       "    </tr>\n",
       "    <tr>\n",
       "      <td>16</td>\n",
       "      <td>15742</td>\n",
       "      <td>CLASS-1850</td>\n",
       "    </tr>\n",
       "    <tr>\n",
       "      <td>17</td>\n",
       "      <td>15754</td>\n",
       "      <td>CLASS-1758</td>\n",
       "    </tr>\n",
       "    <tr>\n",
       "      <td>18</td>\n",
       "      <td>15755</td>\n",
       "      <td>CLASS-1274</td>\n",
       "    </tr>\n",
       "    <tr>\n",
       "      <td>19</td>\n",
       "      <td>15891</td>\n",
       "      <td>CLASS-1758</td>\n",
       "    </tr>\n",
       "    <tr>\n",
       "      <td>20</td>\n",
       "      <td>15918</td>\n",
       "      <td>CLASS-1963</td>\n",
       "    </tr>\n",
       "    <tr>\n",
       "      <td>21</td>\n",
       "      <td>15943</td>\n",
       "      <td>CLASS-1828</td>\n",
       "    </tr>\n",
       "    <tr>\n",
       "      <td>22</td>\n",
       "      <td>15957</td>\n",
       "      <td>CLASS-1250</td>\n",
       "    </tr>\n",
       "    <tr>\n",
       "      <td>23</td>\n",
       "      <td>15967</td>\n",
       "      <td>CLASS-1828</td>\n",
       "    </tr>\n",
       "    <tr>\n",
       "      <td>24</td>\n",
       "      <td>15968</td>\n",
       "      <td>CLASS-1758</td>\n",
       "    </tr>\n",
       "    <tr>\n",
       "      <td>25</td>\n",
       "      <td>15970</td>\n",
       "      <td>CLASS-2241</td>\n",
       "    </tr>\n",
       "    <tr>\n",
       "      <td>26</td>\n",
       "      <td>15976</td>\n",
       "      <td>CLASS-1758</td>\n",
       "    </tr>\n",
       "    <tr>\n",
       "      <td>27</td>\n",
       "      <td>16043</td>\n",
       "      <td>CLASS-1919</td>\n",
       "    </tr>\n",
       "    <tr>\n",
       "      <td>28</td>\n",
       "      <td>16047</td>\n",
       "      <td>CLASS-1758</td>\n",
       "    </tr>\n",
       "    <tr>\n",
       "      <td>29</td>\n",
       "      <td>16049</td>\n",
       "      <td>CLASS-1652</td>\n",
       "    </tr>\n",
       "  </tbody>\n",
       "</table>\n",
       "</div>"
      ],
      "text/plain": [
       "    Inv_Id Product_Category\n",
       "0    15041       CLASS-1274\n",
       "1    15094       CLASS-1963\n",
       "2    15112       CLASS-1758\n",
       "3    15179       CLASS-1522\n",
       "4    15212       CLASS-1758\n",
       "5    15312       CLASS-2146\n",
       "6    15316       CLASS-1250\n",
       "7    15346       CLASS-1274\n",
       "8    15399       CLASS-1522\n",
       "9    15422       CLASS-1522\n",
       "10   15448       CLASS-1274\n",
       "11   15491       CLASS-1567\n",
       "12   15499       CLASS-1376\n",
       "13   15524       CLASS-1274\n",
       "14   15597       CLASS-1758\n",
       "15   15682       CLASS-1758\n",
       "16   15742       CLASS-1850\n",
       "17   15754       CLASS-1758\n",
       "18   15755       CLASS-1274\n",
       "19   15891       CLASS-1758\n",
       "20   15918       CLASS-1963\n",
       "21   15943       CLASS-1828\n",
       "22   15957       CLASS-1250\n",
       "23   15967       CLASS-1828\n",
       "24   15968       CLASS-1758\n",
       "25   15970       CLASS-2241\n",
       "26   15976       CLASS-1758\n",
       "27   16043       CLASS-1919\n",
       "28   16047       CLASS-1758\n",
       "29   16049       CLASS-1652"
      ]
     },
     "execution_count": 43,
     "metadata": {},
     "output_type": "execute_result"
    }
   ],
   "source": [
    "output.head(30)"
   ]
  }
 ],
 "metadata": {
  "kernelspec": {
   "display_name": "Python 3",
   "language": "python",
   "name": "python3"
  },
  "language_info": {
   "codemirror_mode": {
    "name": "ipython",
    "version": 3
   },
   "file_extension": ".py",
   "mimetype": "text/x-python",
   "name": "python",
   "nbconvert_exporter": "python",
   "pygments_lexer": "ipython3",
   "version": "3.6.5"
  }
 },
 "nbformat": 4,
 "nbformat_minor": 2
}
